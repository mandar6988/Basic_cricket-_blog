{
 "cells": [
  {
   "cell_type": "code",
   "execution_count": 37,
   "metadata": {},
   "outputs": [],
   "source": [
    "# importing necessary liabrary to analyse and understand various data\n",
    "import numpy as np\n",
    "import pandas as pd\n",
    "import seaborn as sns\n",
    "import matplotlib.pyplot as plt\n",
    "from sklearn.preprocessing import LabelEncoder\n",
    "%matplotlib inline\n",
    "import warnings"
   ]
  },
  {
   "cell_type": "markdown",
   "metadata": {},
   "source": [
    "As a Cricket World Cup 2019 is going on, i could not stop myself to do some analysis of cricket matches. Following are the questions consider for data analysis.\n",
    "\n",
    "Question 1: Which of the team has highest wins?\n",
    "\n",
    "Question 2 : Which of the team has most percentage of wins?\n",
    "\n",
    "Question 3: Is it any advantage of being host?\n",
    "\n",
    "Question 4: How much advantage taken by each country as a host?\n",
    "\n",
    "Question 5: What is the percentage of winning by innings.\n",
    "\n",
    "Question 6: Who have more 'wins' at a neutral place.\n",
    "\n",
    "After finding answer it may help cricket analyser to find out strength and weakness of opponent teams."
   ]
  },
  {
   "cell_type": "raw",
   "metadata": {},
   "source": [
    "Data Understanding:\n",
    "In this project, we will look dataset of 'odi cricket matches' from Kaggle. It consist of 4 csv files, out of which we will use \"ContinuousDataset.csv\" which contains all information."
   ]
  },
  {
   "cell_type": "markdown",
   "metadata": {},
   "source": [
    "Start analysis by reading values."
   ]
  },
  {
   "cell_type": "code",
   "execution_count": 39,
   "metadata": {},
   "outputs": [
    {
     "data": {
      "text/html": [
       "<div>\n",
       "<style scoped>\n",
       "    .dataframe tbody tr th:only-of-type {\n",
       "        vertical-align: middle;\n",
       "    }\n",
       "\n",
       "    .dataframe tbody tr th {\n",
       "        vertical-align: top;\n",
       "    }\n",
       "\n",
       "    .dataframe thead th {\n",
       "        text-align: right;\n",
       "    }\n",
       "</style>\n",
       "<table border=\"1\" class=\"dataframe\">\n",
       "  <thead>\n",
       "    <tr style=\"text-align: right;\">\n",
       "      <th></th>\n",
       "      <th>Unnamed: 0</th>\n",
       "      <th>Scorecard</th>\n",
       "      <th>Team 1</th>\n",
       "      <th>Team 2</th>\n",
       "      <th>Margin</th>\n",
       "      <th>Ground</th>\n",
       "      <th>Match Date</th>\n",
       "      <th>Winner</th>\n",
       "      <th>Host_Country</th>\n",
       "      <th>Venue_Team1</th>\n",
       "      <th>Venue_Team2</th>\n",
       "      <th>Innings_Team1</th>\n",
       "      <th>Innings_Team2</th>\n",
       "    </tr>\n",
       "  </thead>\n",
       "  <tbody>\n",
       "    <tr>\n",
       "      <th>0</th>\n",
       "      <td>0</td>\n",
       "      <td>ODI # 1</td>\n",
       "      <td>Australia</td>\n",
       "      <td>England</td>\n",
       "      <td>Winner2ndInning</td>\n",
       "      <td>Melbourne</td>\n",
       "      <td>Jan 5, 1971</td>\n",
       "      <td>Australia</td>\n",
       "      <td>Australia</td>\n",
       "      <td>Home</td>\n",
       "      <td>Away</td>\n",
       "      <td>Second</td>\n",
       "      <td>First</td>\n",
       "    </tr>\n",
       "    <tr>\n",
       "      <th>1</th>\n",
       "      <td>1</td>\n",
       "      <td>ODI # 2</td>\n",
       "      <td>England</td>\n",
       "      <td>Australia</td>\n",
       "      <td>Winner2ndInning</td>\n",
       "      <td>Manchester</td>\n",
       "      <td>Aug 24, 1972</td>\n",
       "      <td>England</td>\n",
       "      <td>England</td>\n",
       "      <td>Home</td>\n",
       "      <td>Away</td>\n",
       "      <td>Second</td>\n",
       "      <td>First</td>\n",
       "    </tr>\n",
       "    <tr>\n",
       "      <th>2</th>\n",
       "      <td>2</td>\n",
       "      <td>ODI # 3</td>\n",
       "      <td>England</td>\n",
       "      <td>Australia</td>\n",
       "      <td>Winner2ndInning</td>\n",
       "      <td>Lord's</td>\n",
       "      <td>Aug 26, 1972</td>\n",
       "      <td>Australia</td>\n",
       "      <td>England</td>\n",
       "      <td>Home</td>\n",
       "      <td>Away</td>\n",
       "      <td>First</td>\n",
       "      <td>Second</td>\n",
       "    </tr>\n",
       "    <tr>\n",
       "      <th>3</th>\n",
       "      <td>3</td>\n",
       "      <td>ODI # 4</td>\n",
       "      <td>England</td>\n",
       "      <td>Australia</td>\n",
       "      <td>Winner2ndInning</td>\n",
       "      <td>Birmingham</td>\n",
       "      <td>Aug 28, 1972</td>\n",
       "      <td>England</td>\n",
       "      <td>England</td>\n",
       "      <td>Home</td>\n",
       "      <td>Away</td>\n",
       "      <td>Second</td>\n",
       "      <td>First</td>\n",
       "    </tr>\n",
       "    <tr>\n",
       "      <th>4</th>\n",
       "      <td>4</td>\n",
       "      <td>ODI # 5</td>\n",
       "      <td>New Zealand</td>\n",
       "      <td>Pakistan</td>\n",
       "      <td>Winner1stInning</td>\n",
       "      <td>Christchurch</td>\n",
       "      <td>Feb 11, 1973</td>\n",
       "      <td>New Zealand</td>\n",
       "      <td>New Zealand</td>\n",
       "      <td>Home</td>\n",
       "      <td>Away</td>\n",
       "      <td>First</td>\n",
       "      <td>Second</td>\n",
       "    </tr>\n",
       "    <tr>\n",
       "      <th>5</th>\n",
       "      <td>5</td>\n",
       "      <td>ODI # 6</td>\n",
       "      <td>England</td>\n",
       "      <td>New Zealand</td>\n",
       "      <td>Winner2ndInning</td>\n",
       "      <td>Swansea</td>\n",
       "      <td>Jul 18, 1973</td>\n",
       "      <td>England</td>\n",
       "      <td>England</td>\n",
       "      <td>Home</td>\n",
       "      <td>Away</td>\n",
       "      <td>Second</td>\n",
       "      <td>First</td>\n",
       "    </tr>\n",
       "    <tr>\n",
       "      <th>6</th>\n",
       "      <td>6</td>\n",
       "      <td>ODI # 8</td>\n",
       "      <td>England</td>\n",
       "      <td>West Indies</td>\n",
       "      <td>Winner2ndInning</td>\n",
       "      <td>Leeds</td>\n",
       "      <td>Sep 5, 1973</td>\n",
       "      <td>England</td>\n",
       "      <td>England</td>\n",
       "      <td>Home</td>\n",
       "      <td>Away</td>\n",
       "      <td>Second</td>\n",
       "      <td>First</td>\n",
       "    </tr>\n",
       "    <tr>\n",
       "      <th>7</th>\n",
       "      <td>7</td>\n",
       "      <td>ODI # 9</td>\n",
       "      <td>England</td>\n",
       "      <td>West Indies</td>\n",
       "      <td>Winner2ndInning</td>\n",
       "      <td>The Oval</td>\n",
       "      <td>Sep 7, 1973</td>\n",
       "      <td>West Indies</td>\n",
       "      <td>England</td>\n",
       "      <td>Home</td>\n",
       "      <td>Away</td>\n",
       "      <td>First</td>\n",
       "      <td>Second</td>\n",
       "    </tr>\n",
       "    <tr>\n",
       "      <th>8</th>\n",
       "      <td>8</td>\n",
       "      <td>ODI # 10</td>\n",
       "      <td>New Zealand</td>\n",
       "      <td>Australia</td>\n",
       "      <td>Winner2ndInning</td>\n",
       "      <td>Dunedin</td>\n",
       "      <td>Mar 30, 1974</td>\n",
       "      <td>Australia</td>\n",
       "      <td>New Zealand</td>\n",
       "      <td>Home</td>\n",
       "      <td>Away</td>\n",
       "      <td>First</td>\n",
       "      <td>Second</td>\n",
       "    </tr>\n",
       "    <tr>\n",
       "      <th>9</th>\n",
       "      <td>9</td>\n",
       "      <td>ODI # 11</td>\n",
       "      <td>New Zealand</td>\n",
       "      <td>Australia</td>\n",
       "      <td>Winner1stInning</td>\n",
       "      <td>Christchurch</td>\n",
       "      <td>Mar 31, 1974</td>\n",
       "      <td>Australia</td>\n",
       "      <td>New Zealand</td>\n",
       "      <td>Home</td>\n",
       "      <td>Away</td>\n",
       "      <td>Second</td>\n",
       "      <td>First</td>\n",
       "    </tr>\n",
       "  </tbody>\n",
       "</table>\n",
       "</div>"
      ],
      "text/plain": [
       "   Unnamed: 0 Scorecard       Team 1       Team 2           Margin  \\\n",
       "0           0   ODI # 1    Australia      England  Winner2ndInning   \n",
       "1           1   ODI # 2      England    Australia  Winner2ndInning   \n",
       "2           2   ODI # 3      England    Australia  Winner2ndInning   \n",
       "3           3   ODI # 4      England    Australia  Winner2ndInning   \n",
       "4           4   ODI # 5  New Zealand     Pakistan  Winner1stInning   \n",
       "5           5   ODI # 6      England  New Zealand  Winner2ndInning   \n",
       "6           6   ODI # 8      England  West Indies  Winner2ndInning   \n",
       "7           7   ODI # 9      England  West Indies  Winner2ndInning   \n",
       "8           8  ODI # 10  New Zealand    Australia  Winner2ndInning   \n",
       "9           9  ODI # 11  New Zealand    Australia  Winner1stInning   \n",
       "\n",
       "         Ground    Match Date       Winner Host_Country Venue_Team1  \\\n",
       "0     Melbourne   Jan 5, 1971    Australia    Australia        Home   \n",
       "1    Manchester  Aug 24, 1972      England      England        Home   \n",
       "2        Lord's  Aug 26, 1972    Australia      England        Home   \n",
       "3    Birmingham  Aug 28, 1972      England      England        Home   \n",
       "4  Christchurch  Feb 11, 1973  New Zealand  New Zealand        Home   \n",
       "5       Swansea  Jul 18, 1973      England      England        Home   \n",
       "6         Leeds   Sep 5, 1973      England      England        Home   \n",
       "7      The Oval   Sep 7, 1973  West Indies      England        Home   \n",
       "8       Dunedin  Mar 30, 1974    Australia  New Zealand        Home   \n",
       "9  Christchurch  Mar 31, 1974    Australia  New Zealand        Home   \n",
       "\n",
       "  Venue_Team2 Innings_Team1 Innings_Team2  \n",
       "0        Away        Second         First  \n",
       "1        Away        Second         First  \n",
       "2        Away         First        Second  \n",
       "3        Away        Second         First  \n",
       "4        Away         First        Second  \n",
       "5        Away        Second         First  \n",
       "6        Away        Second         First  \n",
       "7        Away         First        Second  \n",
       "8        Away         First        Second  \n",
       "9        Away        Second         First  "
      ]
     },
     "execution_count": 39,
     "metadata": {},
     "output_type": "execute_result"
    }
   ],
   "source": [
    "# Read the dataset for further processing\n",
    "original_dataset=pd.read_csv('./ContinousDataset.csv')\n",
    "original_dataset.head(10)"
   ]
  },
  {
   "cell_type": "code",
   "execution_count": 41,
   "metadata": {},
   "outputs": [
    {
     "name": "stdout",
     "output_type": "stream",
     "text": [
      "<class 'pandas.core.frame.DataFrame'>\n",
      "RangeIndex: 7494 entries, 0 to 7493\n",
      "Data columns (total 13 columns):\n",
      "Unnamed: 0       7494 non-null int64\n",
      "Scorecard        7494 non-null object\n",
      "Team 1           7494 non-null object\n",
      "Team 2           7494 non-null object\n",
      "Margin           7494 non-null object\n",
      "Ground           7494 non-null object\n",
      "Match Date       7494 non-null object\n",
      "Winner           7494 non-null object\n",
      "Host_Country     7364 non-null object\n",
      "Venue_Team1      7494 non-null object\n",
      "Venue_Team2      7494 non-null object\n",
      "Innings_Team1    7494 non-null object\n",
      "Innings_Team2    7494 non-null object\n",
      "dtypes: int64(1), object(12)\n",
      "memory usage: 761.2+ KB\n"
     ]
    }
   ],
   "source": [
    "# Get to know what are the types of variable in each column\n",
    "original_dataset.info()"
   ]
  },
  {
   "cell_type": "markdown",
   "metadata": {},
   "source": [
    "Looking at the information from choosen dataset, it find that all column except one have 'object' type of variables. But when 'Margin' column find in datail it has only two component. And it represent which innings wins the match. So this column in converted into two values. Also we have see dataset have any 'NAN' value, if it present then particular value must be removed for analysis of data.  "
   ]
  },
  {
   "cell_type": "code",
   "execution_count": 8,
   "metadata": {},
   "outputs": [
    {
     "name": "stdout",
     "output_type": "stream",
     "text": [
      "Index(['Unnamed: 0', 'Scorecard', 'Team 1', 'Team 2', 'Margin', 'Ground',\n",
      "       'Match Date', 'Winner', 'Host_Country', 'Venue_Team1', 'Venue_Team2',\n",
      "       'Innings_Team1', 'Innings_Team2'],\n",
      "      dtype='object')\n",
      "(7494, 13)\n"
     ]
    }
   ],
   "source": [
    "# Looking the columns name to understand what are the contents in the file\n",
    "print(original_dataset.columns)\n",
    "print(original_dataset.shape)"
   ]
  },
  {
   "cell_type": "code",
   "execution_count": 14,
   "metadata": {},
   "outputs": [
    {
     "name": "stdout",
     "output_type": "stream",
     "text": [
      "Unnamed: 0         0\n",
      "Scorecard          0\n",
      "Team 1             0\n",
      "Team 2             0\n",
      "Margin             0\n",
      "Ground             0\n",
      "Match Date         0\n",
      "Winner             0\n",
      "Host_Country     130\n",
      "Venue_Team1        0\n",
      "Venue_Team2        0\n",
      "Innings_Team1      0\n",
      "Innings_Team2      0\n",
      "dtype: int64\n"
     ]
    }
   ],
   "source": [
    "# Look if any NAN value is present dataset\n",
    "missing_check=original_dataset.isnull().sum()\n",
    "print(missing_check)"
   ]
  },
  {
   "cell_type": "code",
   "execution_count": 21,
   "metadata": {},
   "outputs": [
    {
     "name": "stdout",
     "output_type": "stream",
     "text": [
      "0    3814\n",
      "1    3680\n",
      "Name: Margin, dtype: int64\n"
     ]
    }
   ],
   "source": [
    "# Repacing values of 'Margin' column into integer value. Again replacing doesnt necessary but for simplicity it is replaced.\n",
    "original_dataset['Margin'].replace(['Winner1stInning','Winner2ndInning'],[1,0],inplace=True)\n",
    "\n",
    "print(original_dataset['Margin'].value_counts())"
   ]
  },
  {
   "cell_type": "code",
   "execution_count": 9,
   "metadata": {},
   "outputs": [
    {
     "name": "stdout",
     "output_type": "stream",
     "text": [
      "Australia       1104\n",
      "India            950\n",
      "Pakistan         932\n",
      "West Indies      760\n",
      "Sri Lanka        742\n",
      "South Africa     722\n",
      "England          686\n",
      "New Zealand      648\n",
      "Zimbabwe         258\n",
      "Bangladesh       210\n",
      "Ireland          102\n",
      "Afghanistan       84\n",
      "Kenya             84\n",
      "Scotland          62\n",
      "Netherlands       56\n",
      "Canada            34\n",
      "U.A.E.            18\n",
      "Bermuda           14\n",
      "Hong Kong         12\n",
      "P.N.G.            10\n",
      "U.S.A.             2\n",
      "Namibia            2\n",
      "East Africa        2\n",
      "Name: Winner, dtype: int64\n"
     ]
    }
   ],
   "source": [
    "# Question 1: Which of the team has highest wins.\n",
    "# Counting how much win by each country.\n",
    "contry_wins=original_dataset.Winner.value_counts()\n",
    "print(contry_wins)"
   ]
  },
  {
   "cell_type": "code",
   "execution_count": null,
   "metadata": {},
   "outputs": [],
   "source": []
  },
  {
   "cell_type": "code",
   "execution_count": 43,
   "metadata": {},
   "outputs": [
    {
     "name": "stdout",
     "output_type": "stream",
     "text": [
      "{0: 1760, 1: 1718, 2: 1708, 3: 1462, 4: 1532, 5: 1122, 6: 1328, 7: 1372, 8: 948, 9: 656, 10: 226, 11: 162, 12: 298, 13: 174, 14: 144, 15: 150, 16: 70, 17: 72, 18: 36, 19: 20, 20: 8, 21: 6, 22: 16}\n"
     ]
    }
   ],
   "source": [
    "# Looking for how much matches played by each country\n",
    "cntry=['India','Australia','Pakistan','West Indies','Sri Lanka','South Africa','England','New Zealand','Zimbabwe',\n",
    "       'Bangladesh','Ireland','Afghanistan','Kenya','Scotland','Netherlands','Canada','U.A.E.','Bermuda','Hong Kong',\n",
    "       'P.N.G.','East Africa' ,'U.S.A.','Namibia']\n",
    "j={}\n",
    "count=0\n",
    "for i in cntry:\n",
    "    j[count]=(original_dataset[['Team 1','Team 2']]==i).sum().sum()\n",
    "    count=count+1\n",
    "print(j)\n"
   ]
  },
  {
   "cell_type": "code",
   "execution_count": 45,
   "metadata": {},
   "outputs": [
    {
     "name": "stdout",
     "output_type": "stream",
     "text": [
      "      Country\n",
      "0   53.977273\n",
      "1   64.260768\n",
      "2   54.566745\n",
      "3   51.983584\n",
      "4   48.433420\n",
      "5   64.349376\n",
      "6   51.656627\n",
      "7   47.230321\n",
      "8   27.215190\n",
      "9   32.012195\n",
      "10  45.132743\n",
      "11  51.851852\n",
      "12  28.187919\n",
      "13  35.632184\n",
      "14  38.888889\n",
      "15  22.666667\n",
      "16  25.714286\n",
      "17  19.444444\n",
      "18  33.333333\n",
      "19  50.000000\n",
      "20  25.000000\n",
      "21  33.333333\n",
      "22  12.500000\n"
     ]
    }
   ],
   "source": [
    "#Question 2 : Which of the team has most percentage of wins.\n",
    "\n",
    "percen={}\n",
    "for i in range(len(cntry)):\n",
    "    percen[i]=(contry_wins[cntry[i]])/j[i]*100\n",
    "\n",
    "new_df=pd.DataFrame.from_dict(percen,orient='index',columns=['Country'])\n",
    "print(new_df)"
   ]
  },
  {
   "cell_type": "code",
   "execution_count": 51,
   "metadata": {},
   "outputs": [
    {
     "data": {
      "text/plain": [
       "array([ 0,  1,  2,  3,  4,  5,  6,  7,  8,  9, 10, 11, 12, 13, 14, 15, 16,\n",
       "       17, 18, 19, 20, 21, 22])"
      ]
     },
     "execution_count": 51,
     "metadata": {},
     "output_type": "execute_result"
    },
    {
     "data": {
      "image/png": "[encoded data removed]",
      "text/plain": [
       "<Figure size 720x360 with 1 Axes>"
      ]
     },
     "metadata": {},
     "output_type": "display_data"
    }
   ],
   "source": [
    "dictionary=plt.figure(figsize=(10,5))\n",
    "plt.bar(range(len(percen)),percen.values())\n",
    "y=np.arange(len(cntry))\n",
    "plt.xticks(y,cntry,rotation=90,fontsize=20)\n",
    "y"
   ]
  },
  {
   "cell_type": "markdown",
   "metadata": {},
   "source": [
    "Looking at the graph, it clears that 'Australia' and 'South Africa' is dominating cricket field. Though 'Afganistan' & 'P.N.G' also have very good average percentage of winnning match, they played less number of matches. India, Australia,Pakistan, West-Indies, South africa & England have more than 50% of winning rate, it is obvious that each of these country have at least one time world champion. "
   ]
  },
  {
   "cell_type": "code",
   "execution_count": 60,
   "metadata": {},
   "outputs": [
    {
     "name": "stdout",
     "output_type": "stream",
     "text": [
      "The number of matches played as a being host= 5218\n",
      "Matches win by host country= 3028\n",
      "Matches loss by host country= 2190\n",
      "Percentage of wins as a host= 58\n"
     ]
    }
   ],
   "source": [
    "#Question 3: Is it any advantage of being host\n",
    "\n",
    "matching=0\n",
    "count=0\n",
    "count1=0\n",
    "notmatching=0\n",
    "for i in range (len(original_dataset)):\n",
    "    if ((original_dataset['Venue_Team1'][i]=='Home') or (original_dataset['Venue_Team2'][i]=='Home')):\n",
    "        count=count+1\n",
    "        if (original_dataset['Winner'][i]==original_dataset['Host_Country'][i]):\n",
    "            matching=matching+1\n",
    "        else:\n",
    "            notmatching=notmatching+1\n",
    "    else:\n",
    "        count1=count1+1\n",
    "print(\"The number of matches played as a being host=\",count)\n",
    "print(\"Matches win by host country=\",matching)\n",
    "print(\"Matches loss by host country=\",notmatching)\n",
    "print(\"Percentage of wins as a host=\",(round(matching*100/count)))"
   ]
  },
  {
   "cell_type": "markdown",
   "metadata": {},
   "source": [
    "From above obtained result, it slightly clears that being host is make advantage to the country. Because host country has advantage of fan's support, host team know the playing condition very well, also host team knows the condition of pitch how it behaves in various whether condition.\n",
    "    Now our next part is which team rules as a host."
   ]
  },
  {
   "cell_type": "code",
   "execution_count": 65,
   "metadata": {},
   "outputs": [
    {
     "name": "stdout",
     "output_type": "stream",
     "text": [
      "Printing No. of matches played as a host by each country=\n",
      " {0: 1159, 1: 1392, 2: 925, 3: 1001, 4: 945, 5: 818, 6: 1069, 7: 992, 8: 685, 9: 518, 10: 139, 11: 79, 12: 196, 13: 97, 14: 74, 15: 64, 16: 31, 17: 32, 18: 14, 19: 6, 20: 2, 21: 0, 22: 2}\n",
      "\n",
      "Printing No. of matches wins as a host by each country=\n",
      " {0: 607, 1: 870, 2: 490, 3: 515, 4: 493, 5: 526, 6: 535, 7: 464, 8: 183, 9: 174, 10: 60, 11: 40, 12: 62, 13: 33, 14: 28, 15: 12, 16: 10, 17: 8, 18: 8, 19: 2, 20: 0, 21: 0, 22: 0}\n"
     ]
    }
   ],
   "source": [
    "#Question 4: How much advantage taken by each country as a host?\n",
    "# To find how many matches played and wins by every team as a host \n",
    "count=0\n",
    "count1={}\n",
    "win=0\n",
    "win1={}\n",
    "for j in range(len(cntry)):\n",
    "\n",
    "    for i in range (len(new_dataset)): \n",
    "        if ((original_dataset['Venue_Team1'][i]=='Home')or((original_dataset['Venue_Team2'][i]=='Home'))):\n",
    "            if(original_dataset['Team 1'][i]==cntry[j]) or (original_dataset['Team 2'][i]==cntry[j]):\n",
    "                count=count+1\n",
    "                if(original_dataset['Winner'][i]==cntry[j]):\n",
    "                    win=win+1\n",
    "    count1[j]=count\n",
    "    win1[j]=win\n",
    "    count=0\n",
    "    win=0\n",
    "\n",
    "print(\"Printing No. of matches played as a host by each country=\\n\",count1)\n",
    "print(\"\\nPrinting No. of matches wins as a host by each country=\\n\",win1)"
   ]
  },
  {
   "cell_type": "code",
   "execution_count": 66,
   "metadata": {},
   "outputs": [
    {
     "name": "stdout",
     "output_type": "stream",
     "text": [
      "{0: 52, 1: 62, 2: 53, 3: 51, 4: 52, 5: 64, 6: 50, 7: 47, 8: 27, 9: 34, 10: 43, 11: 51, 12: 32, 13: 34, 14: 38, 15: 19, 16: 32, 17: 25, 18: 57, 19: 33}\n"
     ]
    }
   ],
   "source": [
    "per_wi_home={}\n",
    "for i in range(len(cntry)-3):\n",
    "    per_wi_home[i]=round((win1[i]/count1[i])*100)\n",
    "print(per_wi_home)"
   ]
  },
  {
   "cell_type": "code",
   "execution_count": 71,
   "metadata": {},
   "outputs": [
    {
     "data": {
      "text/plain": [
       "array([ 0,  1,  2,  3,  4,  5,  6,  7,  8,  9, 10, 11, 12, 13, 14, 15, 16,\n",
       "       17, 18, 19])"
      ]
     },
     "execution_count": 71,
     "metadata": {},
     "output_type": "execute_result"
    },
    {
     "data": {
      "image/png": "[encoded data removed]",
      "text/plain": [
       "<Figure size 1080x720 with 1 Axes>"
      ]
     },
     "metadata": {},
     "output_type": "display_data"
    }
   ],
   "source": [
    "dictionary=plt.figure(figsize=(15,10))\n",
    "plt.bar(range(len(per_wi_home)),per_wi_home.values(),align='center')\n",
    "y=np.arange(len(cntry)-3)\n",
    "plt.xticks(y,cntry,rotation=90)\n",
    "y\n"
   ]
  },
  {
   "cell_type": "markdown",
   "metadata": {},
   "source": [
    "Above graph shows that who have more number of wins as a being host. Australia and South Africa have more number of wins in form of percentage as a host. India. Pakistan, West-Indies, Sri Lanka, England have moderate record as host. Australi and South Afrika look good ata their playing condition. The whether, ground in these two contries also differ than other countries, so this may be reason gets another advantage when playing in their home condition.  "
   ]
  },
  {
   "cell_type": "code",
   "execution_count": 72,
   "metadata": {},
   "outputs": [],
   "source": [
    "new_dataset=original_dataset.dropna().reset_index(drop=True)"
   ]
  },
  {
   "cell_type": "code",
   "execution_count": 73,
   "metadata": {},
   "outputs": [
    {
     "data": {
      "text/plain": [
       "(7364, 13)"
      ]
     },
     "execution_count": 73,
     "metadata": {},
     "output_type": "execute_result"
    }
   ],
   "source": [
    "new_dataset.shape"
   ]
  },
  {
   "cell_type": "code",
   "execution_count": 86,
   "metadata": {},
   "outputs": [
    {
     "name": "stdout",
     "output_type": "stream",
     "text": [
      "Winner when batted as a second= 3814\n",
      "Winner when batted as a first= 3680\n",
      "Percentage of wins in secondd inning 50.89404857219109\n",
      "Percentage of wins in first inning 49.10595142780891\n"
     ]
    }
   ],
   "source": [
    "#Question 5: What is the percentage of winning by innings.\n",
    "[a,b]=original_dataset['Margin'].value_counts()\n",
    "print(\"Winner when batted as a second=\",a)\n",
    "print(\"Winner when batted as a first=\",b)\n",
    "print(\"Percentage of wins in secondd inning\",(a/(a+b)*100))\n",
    "print(\"Percentage of wins in first inning\",(b/(a+b)*100))"
   ]
  },
  {
   "cell_type": "markdown",
   "metadata": {},
   "source": [
    "From above result, it clears that their is not much difference when batted as a either 'first' or 'second'. \n",
    "While batting first, batsmens have not to chase any target. So they are free to get any score passible.\n",
    "Batting second, batsmen have to achieve target which is set. So batting first or second have some advantage , also at the same time some disadvatange also."
   ]
  },
  {
   "cell_type": "code",
   "execution_count": 89,
   "metadata": {},
   "outputs": [
    {
     "name": "stdout",
     "output_type": "stream",
     "text": [
      "No. of played matches at neutral place by each country:\n",
      "  {0: 530, 1: 292, 2: 730, 3: 432, 4: 512, 5: 256, 6: 232, 7: 340, 8: 238, 9: 122, 10: 78, 11: 76, 12: 102, 13: 74, 14: 68, 15: 86, 16: 32, 17: 40, 18: 18, 19: 8, 20: 6, 21: 6, 22: 14}\n",
      "\n",
      "No. of wins at neutral place by each country:\n",
      " {0: 300, 1: 210, 2: 420, 3: 234, 4: 212, 5: 166, 6: 134, 7: 166, 8: 68, 9: 32, 10: 40, 11: 40, 12: 22, 13: 28, 14: 28, 15: 22, 16: 4, 17: 6, 18: 2, 19: 6, 20: 2, 21: 2, 22: 2}\n"
     ]
    }
   ],
   "source": [
    "#Question 6: Who have more 'wins' at a neutral place.\n",
    "# Counting no of played matches and no of wins at neutral place.\n",
    "count=0\n",
    "count1={}\n",
    "win=0\n",
    "win1={}\n",
    "for j in range(len(cntry)):\n",
    "\n",
    "    for i in range (len(new_dataset)): \n",
    "        if (new_dataset['Venue_Team1'][i]=='Neutral'):\n",
    "            if(new_dataset['Team 1'][i]==cntry[j]) or (new_dataset['Team 2'][i]==cntry[j]):\n",
    "                count=count+1\n",
    "                if(new_dataset['Winner'][i]==cntry[j]):\n",
    "                    win=win+1\n",
    "    count1[j]=count\n",
    "    win1[j]=win\n",
    "    count=0\n",
    "    win=0\n",
    "\n",
    "print(\"No. of played matches at neutral place by each country:\\n \",count1)\n",
    "print(\"\\nNo. of wins at neutral place by each country:\\n\",win1)"
   ]
  },
  {
   "cell_type": "code",
   "execution_count": 94,
   "metadata": {},
   "outputs": [
    {
     "name": "stdout",
     "output_type": "stream",
     "text": [
      "{0: 57, 1: 72, 2: 58, 3: 54, 4: 41, 5: 65, 6: 58, 7: 49, 8: 29, 9: 26, 10: 51, 11: 53, 12: 22, 13: 38, 14: 41, 15: 26, 16: 12, 17: 15, 18: 11, 19: 75, 20: 33, 21: 33, 22: 14}\n"
     ]
    }
   ],
   "source": [
    "per_wi_neutral={}\n",
    "for i in range(len(cntry)):\n",
    "    per_wi_neutral[i]=round((win1[i]/count1[i])*100)\n",
    "print(per_wi_neutral)"
   ]
  },
  {
   "cell_type": "code",
   "execution_count": 92,
   "metadata": {},
   "outputs": [
    {
     "data": {
      "text/plain": [
       "array([ 0,  1,  2,  3,  4,  5,  6,  7,  8,  9, 10, 11, 12, 13, 14, 15, 16,\n",
       "       17, 18, 19, 20, 21, 22])"
      ]
     },
     "execution_count": 92,
     "metadata": {},
     "output_type": "execute_result"
    },
    {
     "data": {
      "image/png": "[encoded data removed]",
      "text/plain": [
       "<Figure size 720x360 with 1 Axes>"
      ]
     },
     "metadata": {},
     "output_type": "display_data"
    }
   ],
   "source": [
    "dictionary=plt.figure(figsize=(10,5))\n",
    "plt.bar(range(len(per_wi_neutral)),per_wi_neutral.values(),align='center')\n",
    "y=np.arange(len(cntry))\n",
    "plt.xticks(y,cntry,rotation=90)\n",
    "y"
   ]
  },
  {
   "cell_type": "markdown",
   "metadata": {},
   "source": [
    "Look, again at a neutral place Australia is leading by other countries. Thats why they are 5 times world champion. They are leading at every stage of the game. Last 10 column also have very good record but they have played very few matches. Also other countries like India, South Africa, England, Pakistan have very good record at neutral place.  "
   ]
  }
 ],
 "metadata": {
  "kernelspec": {
   "display_name": "Python 3",
   "language": "python",
   "name": "python3"
  },
  "language_info": {
   "codemirror_mode": {
    "name": "ipython",
    "version": 3
   },
   "file_extension": ".py",
   "mimetype": "text/x-python",
   "name": "python",
   "nbconvert_exporter": "python",
   "pygments_lexer": "ipython3",
   "version": "3.6.5"
  }
 },
 "nbformat": 4,
 "nbformat_minor": 2
}
